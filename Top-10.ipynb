{
 "cells": [
  {
   "cell_type": "markdown",
   "metadata": {},
   "source": [
    "# Top 10\n",
    "\n",
    "## Nova versão\n",
    "\n",
    "Esta versão utiliza imagens locais e não links externos.\n",
    "\n",
    "O arquivo JSON foi aberto e os links extraidos com a seguinte RegEXr:\n",
    "\n",
    "`(\\[.*\\])\\((.*)\\)`\n",
    "\n",
    "Em seguida foi feito:\n",
    "\n",
    "`wget $2\\n`\n",
    "\n",
    "Para automatizar a substituição:\n",
    "\n",
    "Capturar trecho do link e o final da URI, depois separar em grupos 1, 2, 3\n",
    "\n",
    "`\\]\\(((http.*\\/)(.*\\.jpg))`\n",
    "\n",
    "Fazer o **Replace**:\n",
    "\n",
    "`](img/$3`\n",
    "\n"
   ]
  },
  {
   "cell_type": "markdown",
   "metadata": {},
   "source": [
    "![img](img/0_I190918_132310_1594565oTextTRMRMMGLPICT000192907268o.jpg)\n",
    "![img](img/200px-Kurre6.jpg)\n",
    "![img](img/5cdd69ed021b4c04584f2913-750-562.jpg)\n",
    "![img](img/8hnWJjq.jpg)\n",
    "![img](img/8.jpg)\n",
    "![img](img/b1a4c27f2a53e9365351983b56f6a12a0d2eb9dd_00.jpg)\n",
    "![img](img/cat-2083492_960_720.jpg)\n",
    "![img](img/lxumzup872wz.jpg)\n",
    "![img](img/PUMPKIN-THE-RACCOON-INSTAGRAM-BOOK-CUTEANDKIDS-BLOG.png)\n",
    "![img](img/yf01w6z992221.jpg)\n"
   ]
  },
  {
   "cell_type": "code",
   "execution_count": null,
   "metadata": {},
   "outputs": [],
   "source": []
  }
 ],
 "metadata": {
  "kernelspec": {
   "display_name": "Python [conda env:jupter0] *",
   "language": "python",
   "name": "conda-env-jupter0-py"
  },
  "language_info": {
   "codemirror_mode": {
    "name": "ipython",
    "version": 3
   },
   "file_extension": ".py",
   "mimetype": "text/x-python",
   "name": "python",
   "nbconvert_exporter": "python",
   "pygments_lexer": "ipython3",
   "version": "3.7.4"
  }
 },
 "nbformat": 4,
 "nbformat_minor": 2
}
