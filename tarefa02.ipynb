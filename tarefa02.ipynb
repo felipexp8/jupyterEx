{
 "cells": [
  {
   "cell_type": "markdown",
   "metadata": {
    "slideshow": {
     "slide_type": "slide"
    }
   },
   "source": [
    "# Atividade Jupter\n",
    "\n",
    "Criar 10 slides com imagens aleatórias\n",
    "\n",
    "**Começando agora:**\n",
    "\n",
    ">A certificação de metodologias que nos auxiliam a lidar com a consolidação das estruturas maximiza as possibilidades por conta do orçamento setorial.\n",
    "\n",
    "![lerolero](http://2.bp.blogspot.com/_jVMUtLCFEAQ/TLFcES1SvrI/AAAAAAAAAQ0/uvR8aUF6CnA/s320/lerolero.jpg)\n"
   ]
  },
  {
   "cell_type": "markdown",
   "metadata": {
    "slideshow": {
     "slide_type": "slide"
    }
   },
   "source": [
    "# Segundo Slide\n",
    "\n",
    "## Mais um tópico:\n",
    "\n",
    "> No mundo atual, o acompanhamento das preferências de consumo apresenta tendências no sentido de aprovar a manutenção do processo de comunicação como um todo.\n",
    "\n",
    "![img](http://www.farmnews.com.br/wp-content/uploads/2017/11/consumo-Brasil.jpg)\n",
    "\n",
    "\n"
   ]
  },
  {
   "cell_type": "markdown",
   "metadata": {
    "slideshow": {
     "slide_type": "slide"
    }
   },
   "source": [
    "\n",
    "# Terceiro Slide\n",
    "\n",
    "\n",
    "> Podemos já vislumbrar o modo pelo qual a contínua expansão de nossa atividade desafia a capacidade de equalização das condições financeiras e administrativas exigidas.\n",
    "\n",
    "\n",
    "![graph](https://multimidia.gazetadopovo.com.br/media/info/2018/201806/divida-publica-pagamento_03.png?2)\n"
   ]
  },
  {
   "cell_type": "markdown",
   "metadata": {
    "slideshow": {
     "slide_type": "slide"
    }
   },
   "source": [
    "# Quarto Slide\n",
    "\n",
    "> Mais um emocionante gráfico sobre a dívida pública:\n",
    "\n",
    "![divida](https://www.infomoney.com.br/wp-content/uploads/2019/07/dvida.png)"
   ]
  },
  {
   "cell_type": "markdown",
   "metadata": {
    "slideshow": {
     "slide_type": "slide"
    }
   },
   "source": [
    "# Quinto Slide\n",
    "\n",
    "> O empenho em analisar o comprometimento entre as equipes afeta positivamente a correta previsão do processo de comunicação como um todo.\n",
    "\n",
    "![icone](http://icons.iconarchive.com/icons/thesquid.ink/free-flat-sample/128/bad-pig-icon.png)\n",
    "\n"
   ]
  },
  {
   "cell_type": "markdown",
   "metadata": {
    "slideshow": {
     "slide_type": "slide"
    }
   },
   "source": [
    "# Sexto Slide\n",
    "\n",
    "> A prática cotidiana prova que a consolidação das estruturas promove a alavancagem dos índices pretendidos.\n",
    "\n",
    "![dip](http://icons.iconarchive.com/icons/thesquid.ink/free-flat-sample/128/diploma-icon.png)"
   ]
  },
  {
   "cell_type": "markdown",
   "metadata": {
    "slideshow": {
     "slide_type": "slide"
    }
   },
   "source": [
    "# Sétimo Slide\n",
    "\n",
    " > Desta maneira, a consulta aos diversos militantes é uma das consequências dos níveis de motivação departamental.\n",
    " \n",
    " ![el]( http://icons.iconarchive.com/icons/thesquid.ink/free-flat-sample/128/snowman-icon.png)\n"
   ]
  },
  {
   "cell_type": "markdown",
   "metadata": {
    "slideshow": {
     "slide_type": "slide"
    }
   },
   "source": [
    "# Oitavo Slide\n",
    "\n",
    "> É importante questionar o quanto o desenvolvimento contínuo de distintas formas de atuação é uma das consequências de alternativas às soluções ortodoxas.\n",
    "\n",
    "![imgm](http://icons.iconarchive.com/icons/thesquid.ink/free-flat-sample/128/owl-icon.png)"
   ]
  },
  {
   "cell_type": "markdown",
   "metadata": {
    "slideshow": {
     "slide_type": "slide"
    }
   },
   "source": [
    "# Nono Slide\n",
    "\n",
    "## Agora assunto importante: função densidade de probabilidade (FDP)\n",
    "\n",
    "> m teoria das probabilidades e estatística, a função densidade de probabilidade (FDP), ou densidade de uma variável aleatória contínua, é uma função que descreve a probabilidade relativa de uma variável aleatória tomar um valor dado. A probabilidade da variável aleatória cair em uma faixa particular é dada pela integral da densidade dessa variável sobre tal faixa...\n",
    "\n",
    "![formular](https://wikimedia.org/api/rest_v1/media/math/render/svg/1cc94007e30df176da27feed7763ac7eb4137e36)"
   ]
  },
  {
   "cell_type": "markdown",
   "metadata": {
    "slideshow": {
     "slide_type": "slide"
    }
   },
   "source": [
    "# Pronto\n",
    "\n",
    "## Aguentou até aqui\n",
    "\n",
    "![fi](http://icons.iconarchive.com/icons/thesquid.ink/free-flat-sample/128/cup-icon.png)"
   ]
  },
  {
   "cell_type": "code",
   "execution_count": null,
   "metadata": {
    "slideshow": {
     "slide_type": "slide"
    }
   },
   "outputs": [],
   "source": []
  }
 ],
 "metadata": {
  "celltoolbar": "Slideshow",
  "kernelspec": {
   "display_name": "Python [conda env:jupter0] *",
   "language": "python",
   "name": "conda-env-jupter0-py"
  },
  "language_info": {
   "codemirror_mode": {
    "name": "ipython",
    "version": 3
   },
   "file_extension": ".py",
   "mimetype": "text/x-python",
   "name": "python",
   "nbconvert_exporter": "python",
   "pygments_lexer": "ipython3",
   "version": "3.7.4"
  }
 },
 "nbformat": 4,
 "nbformat_minor": 2
}
