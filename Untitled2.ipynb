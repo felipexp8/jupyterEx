{
 "cells": [
  {
   "cell_type": "markdown",
   "metadata": {
    "slideshow": {
     "slide_type": "slide"
    }
   },
   "source": [
    "# Atividade Jupter\n",
    "\n",
    "Criar 10 slides com imagens aleatórias\n",
    "\n",
    "**Começando agora:**\n",
    "\n",
    ">A certificação de metodologias que nos auxiliam a lidar com a consolidação das estruturas maximiza as possibilidades por conta do orçamento setorial.\n",
    "\n",
    "![lerolero](http://2.bp.blogspot.com/_jVMUtLCFEAQ/TLFcES1SvrI/AAAAAAAAAQ0/uvR8aUF6CnA/s320/lerolero.jpg)\n"
   ]
  },
  {
   "cell_type": "markdown",
   "metadata": {
    "slideshow": {
     "slide_type": "slide"
    }
   },
   "source": [
    "# Segundo Slide\n",
    "\n",
    "> No mundo atual, o acompanhamento das preferências de consumo apresenta tendências no sentido de aprovar a manutenção do processo de comunicação como um todo.\n",
    "\n"
   ]
  }
 ],
 "metadata": {
  "celltoolbar": "Slideshow",
  "kernelspec": {
   "display_name": "Python [conda env:jupter0] *",
   "language": "python",
   "name": "conda-env-jupter0-py"
  },
  "language_info": {
   "codemirror_mode": {
    "name": "ipython",
    "version": 3
   },
   "file_extension": ".py",
   "mimetype": "text/x-python",
   "name": "python",
   "nbconvert_exporter": "python",
   "pygments_lexer": "ipython3",
   "version": "3.7.4"
  }
 },
 "nbformat": 4,
 "nbformat_minor": 2
}
