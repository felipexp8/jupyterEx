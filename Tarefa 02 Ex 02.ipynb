{
 "cells": [
  {
   "cell_type": "markdown",
   "metadata": {},
   "source": [
    "# Tarefa 02 Exercício 02\n",
    "\n",
    "> Escolha um tema da ementa do curso que você achou interessante (que você ainda não conheça) e prepare uma apresentação.\n",
    "\n",
    "A apresentação deverá:\n",
    "\n",
    "- conter 5 slides simples-\n",
    "- ser salva em .html\n"
   ]
  },
  {
   "cell_type": "markdown",
   "metadata": {
    "slideshow": {
     "slide_type": "slide"
    }
   },
   "source": [
    "# Estatística\n",
    "\n",
    "## Regressão Linear\n",
    "\n",
    "Além da estatítica descritiva, existem diversas inferências que podem ser feitas para auxiliar na interpletação de dados.\n",
    "\n",
    "### Seja:\n",
    "\n",
    "Uma dada amostra $X \\in \\{1,2,3,4,5,6,7\\}$. Ao aplicar um efeito sobre esta amostra, produz *Y* com os seguinte valores: $y \\in \\{4,5,6,7,8,9,11\\}$. \n",
    "\n",
    "Podemos afirmar que *X* está relacionado com *Y* com a seguinte equação:\n",
    "\n",
    "$$ y(x) = x+1 $$ \n",
    "\n",
    "Entratanto o ultimo valor de X não condiz com o o seu respectivo valor de Y, ou seja, o domínio de X não pode ser representado matematicamente em $ y(x) \\forall x $ \n",
    "\n",
    "Todavia podemos afirmar que existe uma relação, mesmo que parcial de $X$ sobre $Y(x)$"
   ]
  },
  {
   "cell_type": "markdown",
   "metadata": {
    "slideshow": {
     "slide_type": "slide"
    }
   },
   "source": [
    "## Regressão Linear\n",
    "\n",
    "Regressão Linear é uma equação para se estimar um valor esperado para uma variável $y$, quando fornecidos alguns valores $x$ provenientes de outras amostras\n",
    "\n",
    "\n",
    "> A regressão é uma ferramenta para tratar de um valor que não se consegue estimar inicialmente. \n",
    "\n"
   ]
  },
  {
   "cell_type": "markdown",
   "metadata": {
    "slideshow": {
     "slide_type": "slide"
    }
   },
   "source": [
    "## Regressão linear\n",
    "\n",
    "### Exemplo com amostras.\n",
    "\n",
    "Ao coletar as amostras (em vermelho) podemos observar que existe uma corelação entre elas, quando maior a grandeza em $x$ maior o resultado em $y$. Nota-se uma linha de tendência em azul, conforme o gráfico abaixo.\n",
    "\n",
    "![imgplot](https://upload.wikimedia.org/wikipedia/commons/thumb/4/41/LinearRegression.svg/300px-LinearRegression.svg.png)"
   ]
  },
  {
   "cell_type": "code",
   "execution_count": null,
   "metadata": {},
   "outputs": [],
   "source": []
  },
  {
   "cell_type": "code",
   "execution_count": 23,
   "metadata": {
    "slideshow": {
     "slide_type": "slide"
    }
   },
   "outputs": [
    {
     "data": {
      "image/png": "[encoded data removed]",
      "text/plain": [
       "<Figure size 432x288 with 1 Axes>"
      ]
     },
     "metadata": {
      "needs_background": "light"
     },
     "output_type": "display_data"
    }
   ],
   "source": [
    "#Exemplo em python:\n",
    "\n",
    "import pylab as p\n",
    "import numpy as np\n",
    "\n",
    "tempo  = np.arange(50)\n",
    "\n",
    "sinalAmostrado = 0.4*tempo + 1.2\n",
    "\n",
    "sinalRuido = sinalAmostrado + np.random.normal(0,0.7,50)\n",
    "\n",
    "p.scatter(tempo,sinalRuido); \n",
    "p.plot(tempo,sinalAmostrado, 'r'); p.grid(); p.xlabel('x'); p.ylabel('y')\n",
    "p.show() "
   ]
  },
  {
   "cell_type": "markdown",
   "metadata": {
    "slideshow": {
     "slide_type": "slide"
    }
   },
   "source": [
    "# Regressão linear\n",
    "\n",
    "\n",
    "## Gerando valores aleatórios\n",
    "\n",
    "Podemos utilizar a *lib* **numpy** para gerar valores aleatórios com distribuição normal.  `random.normal(µ,sigma, tamanho)`"
   ]
  },
  {
   "cell_type": "code",
   "execution_count": 25,
   "metadata": {
    "slideshow": {
     "slide_type": "fragment"
    }
   },
   "outputs": [
    {
     "data": {
      "text/plain": [
       "array([ 0.36835234, -0.26198771,  0.09328269,  0.18457656,  0.10723588,\n",
       "        0.18906273, -0.03484037, -0.26597673, -0.40679537, -0.28183328,\n",
       "        0.12931462, -0.17484016,  0.37377931, -0.17206776,  0.11496536,\n",
       "       -0.15427701,  0.1244039 ,  0.08525288, -0.17733393,  0.05297106,\n",
       "       -0.03140175, -0.22283693, -0.09143462, -0.14376602,  0.03593313,\n",
       "       -0.18982031, -0.06896877, -0.14634775,  0.03840872,  0.302753  ,\n",
       "       -0.25598199, -0.32089433, -0.0448283 , -0.19985406, -0.12380538,\n",
       "        0.03913315,  0.32149603,  0.07874982,  0.07048648, -0.04733692,\n",
       "       -0.02318266,  0.08748031, -0.30276239,  0.33777976, -0.10442384,\n",
       "       -0.25399269,  0.06806344, -0.17874296, -0.01285611,  0.0720906 ])"
      ]
     },
     "execution_count": 25,
     "metadata": {},
     "output_type": "execute_result"
    }
   ],
   "source": [
    "np.random.normal(0,0.2,50) "
   ]
  },
  {
   "cell_type": "code",
   "execution_count": null,
   "metadata": {},
   "outputs": [],
   "source": []
  },
  {
   "cell_type": "code",
   "execution_count": null,
   "metadata": {},
   "outputs": [],
   "source": []
  }
 ],
 "metadata": {
  "celltoolbar": "Slideshow",
  "kernelspec": {
   "display_name": "Python [conda env:jupter0] *",
   "language": "python",
   "name": "conda-env-jupter0-py"
  },
  "language_info": {
   "codemirror_mode": {
    "name": "ipython",
    "version": 3
   },
   "file_extension": ".py",
   "mimetype": "text/x-python",
   "name": "python",
   "nbconvert_exporter": "python",
   "pygments_lexer": "ipython3",
   "version": "3.7.4"
  }
 },
 "nbformat": 4,
 "nbformat_minor": 2
}
